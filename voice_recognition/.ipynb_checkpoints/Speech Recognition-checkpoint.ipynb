{
 "cells": [
  {
   "cell_type": "markdown",
   "id": "a8dfea90",
   "metadata": {},
   "source": [
    "# Speech Recognition\n",
    "\n",
    "\n",
    "## Introduction Hidden Markov model (HMM)\n",
    "\n",
    "Hidden Markov Model in which the system is being modeled is assumed to be a Markov Process. \n",
    "A Markov process or Markov chain is a model based on a random process usually defined as a family of random variables (see <a href=\"https://en.wikipedia.org/wiki/Stochastic_process\">Stochastic process</a> for more informations). \n",
    "The Markov process is describing a sequence of possible events in which the probability of each event depends on the states atteined in the previous event.\n",
    "\n",
    "Let's say we have a process X with unobservable states, HMM assumes that there is another process Y whose behavior depends on X. The goal is to learn about X by observing Y. The HMM models are known for their applications in signal processing and many others. \n",
    "\n",
    "Most of modern speech recognition systems rely on these models. This approach works on the assumption that a speech signal, when viewed on a short enough timescales, can be reasonably approximated as a process in which the properties doesn't change over the time.\n",
    "\n",
    "In a typical HMM, the speech signal is divided into 10ms fragments. The power spectrum of each fragment is mapped to a vector of real numbers known as cepstral coefficients. To decode the speech into text, groups of vectors are matched to one or more phonemes. This calculation requires training since the sound of a phoneme varies from speaker to speaker. A special algorithm is then applied to determine the most likely words that produce the given sequence of phonemes."
   ]
  },
  {
   "cell_type": "markdown",
   "id": "4047465e",
   "metadata": {},
   "source": [
    "## Importing the libraries\n",
    "\n",
    "### The Speech Recognition library\n",
    "\n",
    "This library is made for speech recognition, it supports several engines and APIs. Such as Google Web Speech API, Google Cloud Speech, IDM, Sphinx..."
   ]
  },
  {
   "cell_type": "code",
   "execution_count": 2,
   "id": "f41204cb",
   "metadata": {},
   "outputs": [],
   "source": [
    "import speech_recognition as sr"
   ]
  },
  {
   "cell_type": "markdown",
   "id": "ae786cd3",
   "metadata": {},
   "source": [
    "### The speech"
   ]
  },
  {
   "cell_type": "code",
   "execution_count": 3,
   "id": "d4caf20c",
   "metadata": {},
   "outputs": [],
   "source": [
    "speech = './tests/Céline-Paris.wav'"
   ]
  },
  {
   "cell_type": "markdown",
   "id": "41698fdb",
   "metadata": {},
   "source": [
    "### Initializing the speech recognition"
   ]
  },
  {
   "cell_type": "code",
   "execution_count": 4,
   "id": "15d0b79a",
   "metadata": {},
   "outputs": [],
   "source": [
    "r = sr.Recognizer()"
   ]
  },
  {
   "cell_type": "code",
   "execution_count": 6,
   "id": "eab2bef7",
   "metadata": {},
   "outputs": [
    {
     "name": "stdout",
     "output_type": "stream",
     "text": [
      "it was in on that badly\n"
     ]
    }
   ],
   "source": [
    "with sr.AudioFile(speech) as source:\n",
    "    # listen for the data (load audio to memory)\n",
    "    audio_data = r.record(source)\n",
    "    # recognize (convert from speech to text)\n",
    "    text = r.recognize_sphinx(audio_data)\n",
    "    print(text)"
   ]
  },
  {
   "cell_type": "markdown",
   "id": "02b140a8",
   "metadata": {},
   "source": [
    "Well, I forget to set the language"
   ]
  },
  {
   "cell_type": "code",
   "execution_count": 8,
   "id": "c64b07e6",
   "metadata": {},
   "outputs": [
    {
     "name": "stdout",
     "output_type": "stream",
     "text": [
      "je vous allez me rendre à paris\n"
     ]
    }
   ],
   "source": [
    "with sr.AudioFile(speech) as source:\n",
    "    # listen for the data (load audio to memory)\n",
    "    audio_data = r.record(source)\n",
    "    # recognize (convert from speech to text)\n",
    "    text = r.recognize_sphinx(audio_data, language=\"fr-FR\")\n",
    "    print(text)"
   ]
  },
  {
   "cell_type": "markdown",
   "id": "4c5c7159",
   "metadata": {},
   "source": [
    "Seems better already, original sentance : \"je voudrais me rendre à paris\""
   ]
  },
  {
   "cell_type": "code",
   "execution_count": 11,
   "id": "e1a6037c",
   "metadata": {},
   "outputs": [],
   "source": [
    "def get_sentance(audiospeech):\n",
    "    with sr.AudioFile(speech) as source:\n",
    "        audio_data = r.record(source)\n",
    "        text = r.recognize_sphinx(audio_data, language=\"fr-FR\")\n",
    "    return text"
   ]
  },
  {
   "cell_type": "markdown",
   "id": "4547ab8c",
   "metadata": {},
   "source": [
    "### Let's try"
   ]
  },
  {
   "cell_type": "code",
   "execution_count": null,
   "id": "a0105501",
   "metadata": {},
   "outputs": [],
   "source": [
    "get_sentance()"
   ]
  },
  {
   "cell_type": "code",
   "execution_count": null,
   "id": "990a3f69",
   "metadata": {},
   "outputs": [],
   "source": [
    "get_sentance()"
   ]
  },
  {
   "cell_type": "code",
   "execution_count": null,
   "id": "8a0e1ae8",
   "metadata": {},
   "outputs": [],
   "source": []
  },
  {
   "cell_type": "code",
   "execution_count": null,
   "id": "48882eb9",
   "metadata": {},
   "outputs": [],
   "source": []
  },
  {
   "cell_type": "code",
   "execution_count": null,
   "id": "3f1d0240",
   "metadata": {},
   "outputs": [],
   "source": []
  },
  {
   "cell_type": "code",
   "execution_count": null,
   "id": "c16c2449",
   "metadata": {},
   "outputs": [],
   "source": []
  },
  {
   "cell_type": "markdown",
   "id": "1b752da1",
   "metadata": {},
   "source": [
    "## Sources\n",
    "\n",
    "https://realpython.com/python-speech-recognition/\n",
    "\n",
    "https://en.wikipedia.org/wiki/Hidden_Markov_model\n",
    "\n",
    "http://igm.univ-mlv.fr/~dr/XPOSE2012/HiddenMarkovModel/description.html\n",
    "\n",
    "https://cmusphinx.github.io/wiki/tutorialconcepts/ \n",
    "\n",
    "https://pypi.org/project/SpeechRecognition/ "
   ]
  }
 ],
 "metadata": {
  "kernelspec": {
   "display_name": "Python 3",
   "language": "python",
   "name": "python3"
  },
  "language_info": {
   "codemirror_mode": {
    "name": "ipython",
    "version": 3
   },
   "file_extension": ".py",
   "mimetype": "text/x-python",
   "name": "python",
   "nbconvert_exporter": "python",
   "pygments_lexer": "ipython3",
   "version": "3.8.8"
  }
 },
 "nbformat": 4,
 "nbformat_minor": 5
}
