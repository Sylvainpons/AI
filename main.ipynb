{
 "cells": [
  {
   "cell_type": "markdown",
   "metadata": {},
   "source": [
    "# Traval Order Resolver\n",
    ". = git repo root"
   ]
  },
  {
   "cell_type": "markdown",
   "metadata": {},
   "source": [
    "## Data preparation"
   ]
  },
  {
   "cell_type": "markdown",
   "metadata": {},
   "source": [
    "### Clean data\n",
    "* Clean train station names\n",
    "* Remove useless data"
   ]
  },
  {
   "cell_type": "code",
   "execution_count": 1,
   "metadata": {},
   "outputs": [],
   "source": [
    "\n",
    "import pandas as pd\n",
    "import pprint\n",
    "\n",
    "# Data path\n",
    "path = \"./data/nonan_timetables.csv\"\n",
    "\n",
    "# Read data from local file\n",
    "df = pd.read_csv(path,sep=\"\\t\")\n",
    "\n",
    "# Debugg raw overview dataframe\n",
    "df.head(5)\n",
    "\n",
    "# Get all locations\n",
    "traj = list(df[\"trajet\"])\n",
    "\n",
    "# Origins array\n",
    "origin = []\n",
    "\n",
    "# Destination array\n",
    "destination = []\n",
    "\n",
    "# Feed origin and destination arrays\n",
    "for i in traj:\n",
    "    splitted = i.split(\" - \")\n",
    "    origin.append(splitted[0].replace(\"Gare de \",\"\").replace(\"Gare du \",\"\"))\n",
    "    destination.append(splitted[len(splitted)-1].replace(\"Gare de \",\"\").replace(\"Gare du \",\"\"))\n",
    "\n",
    "\n",
    "# Final dataframe\n",
    "endDF = pd.DataFrame()\n",
    "endDF[\"origin\"] = origin\n",
    "endDF[\"destination\"] = destination\n",
    "endDF[\"length\"] = list(df[\"duree\"])\n",
    "\n",
    "endDF.to_csv(\"./data/clean_timetables.csv\",index=False)"
   ]
  },
  {
   "cell_type": "markdown",
   "metadata": {},
   "source": [
    "### Build matrix"
   ]
  },
  {
   "cell_type": "code",
   "execution_count": 10,
   "metadata": {},
   "outputs": [
    {
     "name": "stdout",
     "output_type": "stream",
     "text": [
      "['Sélestat-(Schweisguth)', 'Vézelise Beauregard', 'Frohmuhl- (Lavoir)', 'Nevers', 'Bas-Monistrol', 'Oissel', 'Hagondange', 'Mende', 'Romorantin-BA-G.R.', 'St-Pierre-de-Chandieu-R', 'Wissembourg', 'Pau', 'Lunel', 'Sens', 'Rouen-Rive-Droite', 'Granville', 'Cosne-sur-Loire', 'Callac', 'Libourne', 'Ambert', 'Mont-de-Marsan', 'Calais Fréthun', 'St-Denis-près-Martel', \"Bois-d'Oingt-Centre\", 'St Quentin', 'Le Mont St Michel', 'Amiens', 'Nogent-le-Rotrou', 'Hyères', 'Brou', 'La Souterraine', 'Le Puy-en-Velay', 'Lunéville', 'Ancizes-St-Georges-Bour', 'Latour de Carol', 'Chamberry-Jacob', 'Droué (Centre)', 'Laveline-d-Bruy. Mairie', 'Wesserling', 'Reipertswiller-SP.', 'Busigny', 'Plouaret-Trégor', 'Etang', 'Eymoutiers-Vassiviere', 'Neuchâtel', 'Chedde', 'Bourg-en-Bresse Gare R', 'Toury', 'Annemasse', 'Laon', 'Blois-Chambord', 'Bourg-St-Maurice', 'St-Gilles-Croix-de-Vie', 'Lozanne', 'Laqueuille', 'Poitiers-Gare-Routière', 'Paris Nord', 'Riquewihr-Poste', 'Egletons', 'Annonay-Gare-Route', 'Issoire', 'Loches-Lycee-St-Denis', 'St-Jean-de-Bassel-Eglis', 'St-Aignan-Noyers', 'Alès', 'Châteaudun', 'Sedan-Place-Calonne', 'St Pol sur Ternoise', 'Villefranche-Vernet-l.B', 'Montmédy', 'Le-Blanc-Pl-du-Bateau', 'Riom_Es_M_la_Poste.', 'Mussidan', 'Châteauroux', 'Lutterbach Tram-train', 'Castelsarrasin', 'Le Tréport-Mers-Les-B', 'Vezin-Carrefour', 'Bayonne', 'Ussel', 'Rumilly', 'Mirecourt (Lycée Agric)', 'Bourgoin-Jallieu', 'Sarrebourg (Place Math)', 'Creil', 'Janzé', 'Issoudun-Jardin', 'Les Laumes-Alésia', 'Luchon-Richelieu', 'Roanne-Gare-Routière', 'Saint-Etienne-Chtx GR', 'Moûtiers-Salins-Brides', 'Nice-Ville', 'Bruyères Chanzy Gare', 'Montpellier-Saint-Roch', 'Modane', 'Capdenac', 'Lyon-Gorge-de-Loup', 'Gap', 'Moulins-sur-Allier', 'Mulhouse-Gare-Centrale', 'Genève', 'Privas-Cours-du-Palais', 'Monaco-Monte-Carlo', 'Aubagne', 'Epinal', 'La Rochelle-Ville', 'Obernai', 'Lichtenberg-(Eglise).', 'Langres-Gendarmerie', 'Paris-Montp.3-Vaug.', 'Arcachon', 'Lannion', 'Bellegarde-s-V. Gare', 'Carhaix', 'Ribeauville-Gare-Routiè', 'Châteauroux-L-Giraudoux', 'Courtrai/Kortrijk', 'Briançon', 'Cavaillon', 'Autun', 'Montluçon-Ville', 'Travers', 'Givors-Ville', 'Lens', 'Comines (France)', 'Sarrebourg-LP-Messmer', 'Sète', 'Lyon-Part-Dieu', 'Orange', 'Bitche-Camp', 'Cannes', 'Bidos', 'Bédarieux', 'Sarre-Union', 'Roeschwoog', 'Pauillac', 'Niedermodern/Uberach', 'Lamballe', 'Sancerre-Porte-Cesar', 'Luchon', 'Luneville-LP', 'St-Just-SNCF', 'Vichy', 'Pfaffenhoffen-(Mairie).', 'Compiègne', 'Sarrebourg', 'St-Nazaire', 'St-Marcellin', 'Dijon-Ville', 'Dourdan', 'Rothau', 'Longages-Noé', 'Cambo-les-Bains', 'Kruth', 'Briouze', 'Clelles-Mens', 'Firminy', 'Nîmes', 'Limoux', 'Albens', 'Gannat', 'St-Pierre-des-Corps', 'Fismes', 'Pontgibaud-Ville', 'Ternay-Barbières', 'Ste-Marie-/-Mines-Maire', 'Bettembourg', 'Sarreguemines', 'Châteauroux-Charmilles', 'Contrexéville', 'Felletin-Gare', 'Rouen-Gare-Routière', 'Aulnoye Aymeries', 'Génolhac', 'St-Mariens-St-Yzan', 'Basel-SBB', 'Metz-Ville', 'Chalon-sur-Saône', 'Agen', 'Nancy-Ville', 'Corcieux Le Conti', 'Munster', \"Urcay-Hotel-du-Lyon-d'O\", 'Champagnole', 'Foix', 'Douai', 'Moyen', 'Pont-Audemer-Gare-SNCF', 'Loudrefing', 'Joinville', 'Crépy-en-Valois', 'Mondoubleau-Rue-Leroy', 'La Brohinière', 'Quillan', 'Remiremont', 'Lorient', 'Dinan', 'Mauriac', 'Lutzelbourg', 'Ventimiglia-Stazione', 'Ribécourt', 'Castelnaudary', 'Aubrais-(les)', 'St-Malo', 'Brive-la-Gaillarde', 'Redon', \"L'Isle-Jourdain (Gers)\", 'Gien', 'Chaumont-sur-Tharonne', 'Champagne-Ardenne', 'Kédange (Eglise)', 'Paris-Bercy', 'Châteaudun-LEP-Paulsen', 'Neuwiller-R.-Bouxwiller', 'Paris-St-Lazare', 'Le-Breuil-sur-Couze-Lyc', 'Poitiers', 'La Tour-du-Pin', 'Abancourt', 'Valence-Gare-Routière', 'Montréjeau-Gourdan-Pol.', 'Albi-Ville', 'Colomiers', 'Berthelming-Mairie', 'La Bresse Le Lispach', 'Herbitzheim R. Hambach', 'Ax-les-Thermes', 'Thouars', 'Longueville (S.-et-M.)', 'St-Vit', 'Valenciennes', 'Sérézin', 'Die', 'La Roche-sur-Yon', 'Longuyon (Collège)', 'Auxerre-St-Gervais', 'Montchanin', 'Nexon', 'Valence-Ville', 'Lamotte-Beuvron', 'Manosque-Gréoux', 'St-Sulpice (Tarn)', 'Voves', 'Chauffailles-Gambetta', 'Aiton-Salle-Polyvalente', 'Châteaubriant-TT', 'Toul', 'St-Louis-57-Incliné', 'Quimper', 'La Douzillère', 'Raedersheim', 'Latour-de-Carol-Enveitg', 'Le-Verdon', 'Louhans', 'Toulon', 'Obermodern', 'Breil-sur-Roya', 'Millau', 'Routot-Place-de-mairie', 'Meroux', 'Bricon(la Poste)', 'Luxembourg', 'Noirétable', 'Aubigny-sur-Nere-Mail', \"Les Sables-d'Olonne\", 'Ambérieu-en-Bugey', 'Dives-Cabourg', 'Vernon-Giverny', 'Reims', 'Thann Arrêt La Poste', 'Châteauroux Gare Rout.', 'La Chaux-de-Fonds', 'Rémilly', 'Vienne-Gare-Routière', \"Touet-de-l'Escarène\", 'Martigues', 'Quimperlé', 'Bar-le-Duc', 'Romilly-sur-Seine', 'Meymac', 'St-Raphaël-Valescure', 'Pierrelatte', 'Périgueux', 'Argentine', 'Montargis-OT', 'Willer-sur-Thur', 'Avignon-TGV', 'Massiac-Blesle', 'Calais Ville', 'Elbeuf-St-Aubin', 'Morcenx', 'Cernay-(Lycée)', 'Langeac', 'Diemeringen', 'Payns Abri Savières', 'Chartres-Gare-Routière', 'Lisieux', 'Veynes-Dévoluy', 'Montélimar-G-Routière', 'Sathonay-Rillieux', 'Charleroi Sud', 'Barenton-sur-Serre', 'Clion-sur-Indre', 'Morez Lycée', 'Brest', 'Hendaye', 'Monsempron-Libos', 'Igney (Centre)', 'Molsheim', 'Clisson', 'Reignac-Bourg-Du-Fau', 'Laval', 'Miramas', 'Champagnole-PE-Victor', 'Grenoble-Gare-Routière', 'Hirson-Ecoles', 'Landerneau', 'Dole-Ville', 'Decize', 'Morlaix', 'WINDEN PFALZ', 'Thiers', 'St-Pierre-le-Moûtier', 'Kehl', 'Maubeuge', 'Chambéry-Chal.-les-Eaux', 'Lièpvre-(Rte-Vancelle)', 'Chatillon-Mail', 'Marseille-Blancarde', 'St-Florentin-Vergigny', 'Sarlat', 'Tournai', 'Hirson', 'Fénétrange (Gendarm.)', 'Culoz', 'Limeray', 'Auxonne', 'Mantes-la-Jolie', 'Eguzon', 'Sarrebourg-Abri-Phalsbo', 'Namur', 'Tende', 'Sisteron', 'Saint-Cyprien-Arènes', 'Bedous', 'Persan-Beaumont', 'Dreux', 'Boussens', 'Saverne-(Lycée-Verne)', 'La-Rochelle-Pt-Dauphine', 'Lauterbourg', 'Alençon', 'Ville-sous-La-Ferté', 'Retiers', 'Herrlisheim (Bas-Rhin)', 'Avallon', 'Hombourg (Chapelle)', 'Dax', 'Truyes-Pl-Du-Souvenir', 'Yvetot', 'Châteauroux-Lycée-Agric', 'Savenay', 'Evian-les-Bains', 'St-André-le-Gaz', 'Saales', 'Perpignan', 'Carpentras', 'Souillac', 'Romans-Bourg-de-Péage', 'Liepvre-(-R.-GUTH-)', 'Objat', 'Courtalain-Centre', 'Bléré-la-Croix', 'Metzeral', 'Hattmatt-S.-Polyvalente', 'Le Lioran', 'Mâcon-Loché-TGV', 'Neussargues', 'Culmont-Chalindrey', 'Besançon-Mouillère', 'Montbrison', 'Lapeyrouse(Puy-de-Dôme)', 'Damblain Eglise', 'Chaumont', 'Biel', 'Chambourg-Chopin', 'Paimpol', 'Menton', 'Mullheim-Baden-Bf', 'Nogent-sur-Seine', 'Bonneville', 'Sospel', 'Wingen-sur-Moder', 'Mauriac-Lycée-Cortat', 'Etaples Le Touquet', 'Narbonne', 'Pompadour', 'Brioude-Lycée-Lafayette', 'Messac-Guipry', 'Chatellerault', 'Lyon-St-Paul-la-Feuilée', 'WOERTH RHEIN', 'Bergerac', \"St-Pierre-d'Albigny\", 'Givet', 'La Chaise-Dieu', 'Thesee', 'Cluses (Hte-Savoie)', 'Château-Renault', 'Grandris-Centre', 'Reignac', 'Angoulême', 'Thann-Saint-Jacques', 'Lourdes', 'Caen', 'Macau', 'Lunéville (Cité Scolai)', 'Marvejols Place Chayla', 'Toulouse-Matabiau', 'Lugny', 'Rue', 'Delémont', 'Vittel', 'Connerré-Beillé', 'Langogne', 'Oyonnax', 'Castres', 'Port-de-Piles', 'Ingwiller', 'Paris-Est', 'Rennes', 'Rosporden', 'Audun-le-Roman', 'Charleville-Mézières', \"L'Aigle\", 'Châteauroux-Ly-B-Pascal', 'Montereau', 'St-Jean-Pied-de-Port', 'Bourg-Achard Champ de F', 'Thonon-les-Bains', 'Argenton-sur-Creuse', 'Château-Gaillard', 'Port-Boulet', 'Martigny-les-B-Thiebaut', 'Nevers-Le-Banlay', 'Rodez', 'Besançon-Franche-Comté', 'Tonnerre', 'Luçay-le-Male', 'Valence-TGV', 'Conflans-Jarny', 'Bréauté-Beuzeville', 'Clelles-Mairie', 'Biganos-Facture', 'Thionville', 'St-Dizier', 'Brioude', 'Bagnoles- Orne Egl.Mad.', 'Altkirch', 'Vierzon-Médiathèque', 'Vauvert', 'Le Grau-du-Roi', 'Buswiller-Eglise', 'Lyon-Perrache', 'La Roche-sur-Foron', 'Vallorcine', 'Chamonix-Mont-Blanc', 'Haguenau-Moulin-Neuf.', 'Mutzig-Passage-A-Niveau', 'Hazebrouck', 'Belfort-Ville', 'Lyon-St-Paul-Quai-Bondy', 'Montmélian', 'Vif', 'Morteau', 'Bitche-Quartier-Driant', 'Lille Europe', 'Durtol-Nohanent', 'Puyoô', 'Flers', 'Cahors', 'Seurre', 'Angers-St-Laud', 'Barr', 'Chagny', 'Vic-le-Comte', 'Longuyon', 'Lyon-Perrache-Gare-Rout', 'Bueil', 'Saint-Claude', 'Ancenis', 'Dieppe', 'Rives', \"St-Chély-d'Apcher\", 'St-Gervais-Ch-LPA.', 'TOURS LYCEE GRANDMONT', 'Grasse', 'Herbitzheim Mairie', 'Le Creusot', 'Clermont-Ferrand', 'Virieu-le-Grand-Belley', 'Mazamet', 'Truyes-St-Blaise', 'Morhange', 'Villedieu (Gare)', 'Cholet', 'Niort', 'Rang du Fl. Verton Ber.', 'Nouan-le-Fuzelier', 'Courtalain-St-Pellerin', 'Communay-Stade', 'Pontorson-Mt-St-Michel', 'Surdon', 'Dijon-Porte-Neuve', 'Arvant', 'Montbéliard-Ville', 'Epierre-St-Léger', 'Lison', 'Pont-de-Dore', 'Le Dorat', 'Albertville', 'Rodange', 'Creutzwald G.R.', 'Poule-Mairie', 'Sedan', 'Tours', 'Keskastel', 'Montauban-Ville-Bourbon', 'Lamure-sur-Azergues', 'Juvancourt', 'Saumur', 'St-Aignan-Pl-Wilson', 'Corbigny', 'Mâcon-Ville', 'Nantes', 'Offenburg', 'Riom-Châtel-Guyon', 'Le Mans', 'Montreux-Vieux', 'La Forest', 'Benfeld', 'Evreux', 'Fougères', 'Les Granges-Narboz', 'Vierzon', 'Vallon-en-Sully', 'Orléans', 'Bouxwiller-Babenhausen', 'Trouville-Deauville', \"St-George-d'Aurac-Bourg\", 'Paray-le-Monial', 'Marle-sur-Serre', 'Cannes-la-Bocca', 'Laissac-Foirail', 'Romorantin-Lycée-de-F', 'Gérardmer La Mauselaine', 'St-Lô', 'Delle', 'Cambrai Ville', 'Bouxwiller-Schattenmann', \"St-Martin-d'Hères\", 'Grenoble', 'Valençay', 'St-Flour-Chaudes-Aigues', 'La Bastide-St-Laurent', 'Aix-les-Bains-le-Revard', 'Pont-St-Vincent', 'Forbach', 'Brignais', 'Mommenheim', 'Fécamp', 'Franois', 'Vesoul', 'Neuilly-lès-Dijon', 'Lyon-St-Paul', 'Le Mont Dore Ski', 'Esvres', 'Le-Mont-Dore-Gare', 'Pamiers', 'Carnoules', 'Revigny', 'St-Aignan-Lep', 'Luzy(Nièvre)', 'Dunkerque', 'Grenoble U.-Gières', 'Verdun', 'Pont-de-Beauvoisin', 'Marseille-St-Charles', \"St-Georges-d'Aurac\", 'Longwy', 'Wambrechies', 'Le Havre', 'Saint-Léonard Centre', 'Villers-les-Pots', 'St-Gervais-Mairie', 'St-Germain-des-Fossés', 'Marvejols', 'Le Locle', 'Issoudun', 'St-Jean-de-Maurienne-A.', 'La Verrière', 'Guéret', 'Lille Flandres', 'Carmaux', 'Volvic', 'Tassin', 'St-Yrieix-la-Perche', 'Avignon-Centre', 'Chinon-Lycée-Rabelais', 'Vannes', 'Paris-Gare-de-Lyon', 'St-Emilion', 'Lyon-Part-Dieu-Gare-Rou', 'Chantonnay', 'Montauban-de-Bretagne', 'Aix-Gare-Routière', 'La Ferté-sur-Chiers', 'Vallorbe-Cff', 'Saintes', 'Arras', 'Dossenheim-(Mairie)', 'St-Eloy', 'Mouscron / Moeskroen', 'Niederbronn', 'Sèlestat-(Schwilgué)', 'Jougne', 'St-Brieuc', 'Salbris', 'Sain-Bel', 'Abbeville', 'Ste-Croix/Mines-Sq-de-G', 'Dompierre-Halte-Rout.', 'Neufchateau-Lp', 'Vorey', 'St-Rambert-en-Bugey', 'Carcassonne', 'St-Priest', 'Muret', 'La-Bresse (Pl Champtel)', 'Sarralbe Centre', 'Lesparre', 'Le Buisson', 'Gramat', 'Béziers', 'Dol', 'Rambervillers', 'Saarbrücken /Sarrebruck', 'Oloron-Ste-Marie', 'Saillat-Chassenon', 'Sewen-(Eglise)', 'Lons-le-Saunier', 'Bening', 'Neustadt (Weinstr) Hbf', 'Béthune', 'Loches-LEP', 'Krimmeri-Meinau', 'Avesnes', 'St Omer', 'Mirecourt', 'Roanne', 'Le Croisic', 'Laroche-Migennes', 'Marmande', 'Bort-les-Orgues', 'St-Gervais-L-B-Le-Fayet', 'Lure', 'Beauvais-Gare-SNCF', 'St Christophe / Nais C.', 'Bresse-Claudel (la)', 'Sélestat', \"Clermont-de-l'Oise\", 'Troyes', 'Beslé', 'Serquigny', 'Neufchâteau', 'Is-sur-Tille', 'Villefranche-sur-Saône', 'Tessonnières', 'Arches', 'Auch', 'Colmar', 'Cerbère', 'Chinon', 'Bourg-en-Bresse', 'Besançon-Viotte', 'Aillevillers', 'Argentan', 'Pagny-sur-Moselle', 'Pornic', 'Bayel-Eglise', 'Aix-en-Provence', 'Allamps-Esat', 'Ste-Marie/-Ms-(-Théâtre', 'Jeumont', 'Albert', 'Romorantin-Blanc-Argent', 'Mauzé', 'Vendeuvre (Aube)', 'Perl Gare DB', 'Vienne', 'Bouzonville', 'Bourges-Gare-Routière', 'Rambervillers (11 Nov)', 'Nort-sur-Erdre', 'Sarralbe', 'Boulogne Ville', 'Chartres', 'Laon-Gare-Routière-Poma', 'St-Etienne-Châteaucreux', 'Château-Thierry', 'Haguenau', 'Bourges', 'Condat-le-Lardin', 'Cercy-la-Tour', 'Cherbourg', 'Annecy', 'St-Eloy-les-Mines-Lycée', 'Port-Bou', 'Epernay', 'Bressuire', 'Bar-sur-Aube', 'Sucé-Sur-Erdre', 'Ettendorf-(Angle-Pont)', 'Landau-Pfalz-Hbf', 'Coutances', 'Vertaizon', 'Sablé-sur-Sarthe', 'Veigné', 'Mouchard', 'Mulhouse', 'Loches', 'Issoudun-Place-de-la-G.', 'Saverne-(Pl.-Dragons)', 'St-Junien', 'Issoire-Lycée-Deville', 'Versailles-Chantiers', 'Ste-Pazanne', 'St-Flour-les-Allées', 'St-Amand-Montrond-Orval', 'Rochefort', 'Châteaubriant', 'Commentry', 'Liverdun', 'Vendôme-Villiers-s-Loir', 'Luc-en-Diois', 'Antibes', 'Bitche', 'Les Arcs-Draguignan', 'Château-du-Loir', 'Strasbourg', 'Ste-Marie-/-Ms-Pl-.CdG', 'Saverne-(Ht-Barr)', 'Thann', 'Montbazon', 'Font-Romeu-Odeillo-Via', 'Frasne', \"Faubourg-d'Orléans\", 'St-Dié-des-Vosges', 'Montivilliers', \"Ettendorf-Pl,-de-L'ecol\", 'Bordeaux-St-Jean', 'Prissé-la-Charrière', 'Verneuil-sur-Serre', 'Limoges-Bénédictins', 'Vire-Centre', 'Langon', 'Rolleville', 'Vitry-le-François', 'Rethel', 'Feurs', 'Saverne', 'Buzançais', 'Mons', 'Coutras', 'Charmes (Vosges)', 'Vendôme', \"L'Arbresle\", 'Digoin', 'Cormery', 'Tarbes', 'Coppet', 'Pontarlier', 'Le Valdahon', 'Aubenas-Pl.-de-la-Paix', 'St-Sulpice-sur-Lèze', 'Trier-Hbf (Trèves)', 'Boën', 'Guingamp', 'Tergnier', 'Châlons-en-Champagne', 'Montreuil-sur-Ille', 'Vitré', 'Erstein', 'Aurillac', 'Clamecy', 'Poligny', 'Dormans', 'Tourcoing', 'Tulle', 'Royan', 'Sarrebourg-Hôpital', 'Entzheim-Aéroport', 'Bruyères (Vosges)', 'Pessac', 'Nouzonville', 'Baroncourt', 'Paris-Austerlitz', 'Freiburg-Breisgau', 'Gardanne', 'Andelot', 'Cernay (Haut-Rhin)', 'Figeac', 'Paris-Montparnasse 1-2', 'Bussang (Gare SNCF)', 'BarentonÂ\\xa0Cel']\n",
      "[0, 1, 2, 3, 4, 5, 6, 7, 8, 9, 10, 11, 12, 13, 14, 15, 16, 17, 18, 19, 20, 21, 22, 23, 24, 25, 26, 27, 28, 29, 30, 31, 32, 33, 34, 35, 36, 37, 38, 39, 40, 41, 42, 43, 44, 45, 46, 47, 48, 49, 50, 51, 52, 53, 54, 55, 56, 57, 58, 59, 60, 61, 62, 63, 64, 65, 66, 67, 68, 69, 70, 71, 72, 73, 74, 75, 76, 77, 78, 79, 80, 81, 82, 83, 84, 85, 86, 87, 88, 89, 90, 91, 92, 93, 94, 95, 96, 97, 98, 99, 100, 101, 102, 103, 104, 105, 106, 107, 108, 109, 110, 111, 112, 113, 114, 115, 116, 117, 118, 119, 120, 121, 122, 123, 124, 125, 126, 127, 128, 129, 130, 131, 132, 133, 134, 135, 136, 137, 138, 139, 140, 141, 142, 143, 144, 145, 146, 147, 148, 149, 150, 151, 152, 153, 154, 155, 156, 157, 158, 159, 160, 161, 162, 163, 164, 165, 166, 167, 168, 169, 170, 171, 172, 173, 174, 175, 176, 177, 178, 179, 180, 181, 182, 183, 184, 185, 186, 187, 188, 189, 190, 191, 192, 193, 194, 195, 196, 197, 198, 199, 200, 201, 202, 203, 204, 205, 206, 207, 208, 209, 210, 211, 212, 213, 214, 215, 216, 217, 218, 219, 220, 221, 222, 223, 224, 225, 226, 227, 228, 229, 230, 231, 232, 233, 234, 235, 236, 237, 238, 239, 240, 241, 242, 243, 244, 245, 246, 247, 248, 249, 250, 251, 252, 253, 254, 255, 256, 257, 258, 259, 260, 261, 262, 263, 264, 265, 266, 267, 268, 269, 270, 271, 272, 273, 274, 275, 276, 277, 278, 279, 280, 281, 282, 283, 284, 285, 286, 287, 288, 289, 290, 291, 292, 293, 294, 295, 296, 297, 298, 299, 300, 301, 302, 303, 304, 305, 306, 307, 308, 309, 310, 311, 312, 313, 314, 315, 316, 317, 318, 319, 320, 321, 322, 323, 324, 325, 326, 327, 328, 329, 330, 331, 332, 333, 334, 335, 336, 337, 338, 339, 340, 341, 342, 343, 344, 345, 346, 347, 348, 349, 350, 351, 352, 353, 354, 355, 356, 357, 358, 359, 360, 361, 362, 363, 364, 365, 366, 367, 368, 369, 370, 371, 372, 373, 374, 375, 376, 377, 378, 379, 380, 381, 382, 383, 384, 385, 386, 387, 388, 389, 390, 391, 392, 393, 394, 395, 396, 397, 398, 399, 400, 401, 402, 403, 404, 405, 406, 407, 408, 409, 410, 411, 412, 413, 414, 415, 416, 417, 418, 419, 420, 421, 422, 423, 424, 425, 426, 427, 428, 429, 430, 431, 432, 433, 434, 435, 436, 437, 438, 439, 440, 441, 442, 443, 444, 445, 446, 447, 448, 449, 450, 451, 452, 453, 454, 455, 456, 457, 458, 459, 460, 461, 462, 463, 464, 465, 466, 467, 468, 469, 470, 471, 472, 473, 474, 475, 476, 477, 478, 479, 480, 481, 482, 483, 484, 485, 486, 487, 488, 489, 490, 491, 492, 493, 494, 495, 496, 497, 498, 499, 500, 501, 502, 503, 504, 505, 506, 507, 508, 509, 510, 511, 512, 513, 514, 515, 516, 517, 518, 519, 520, 521, 522, 523, 524, 525, 526, 527, 528, 529, 530, 531, 532, 533, 534, 535, 536, 537, 538, 539, 540, 541, 542, 543, 544, 545, 546, 547, 548, 549, 550, 551, 552, 553, 554, 555, 556, 557, 558, 559, 560, 561, 562, 563, 564, 565, 566, 567, 568, 569, 570, 571, 572, 573, 574, 575, 576, 577, 578, 579, 580, 581, 582, 583, 584, 585, 586, 587, 588, 589, 590, 591, 592, 593, 594, 595, 596, 597, 598, 599, 600, 601, 602, 603, 604, 605, 606, 607, 608, 609, 610, 611, 612, 613, 614, 615, 616, 617, 618, 619, 620, 621, 622, 623, 624, 625, 626, 627, 628, 629, 630, 631, 632, 633, 634, 635, 636, 637, 638, 639, 640, 641, 642, 643, 644, 645, 646, 647, 648, 649, 650, 651, 652, 653, 654, 655, 656, 657, 658, 659, 660, 661, 662, 663, 664, 665, 666, 667, 668, 669, 670, 671, 672, 673, 674, 675, 676, 677, 678, 679, 680, 681, 682, 683, 684, 685, 686, 687, 688, 689, 690, 691, 692, 693, 694, 695, 696, 697, 698, 699, 700, 701, 702, 703, 704, 705, 706, 707, 708, 709, 710, 711, 712, 713, 714, 715, 716, 717, 718, 719, 720, 721, 722, 723, 724, 725, 726, 727, 728, 729, 730, 731, 732, 733, 734, 735, 736, 737, 738, 739, 740, 741, 742, 743, 744, 745, 746, 747, 748, 749, 750, 751, 752, 753, 754, 755, 756, 757, 758, 759, 760, 761, 762, 763, 764, 765, 766, 767, 768, 769, 770, 771, 772, 773, 774, 775, 776, 777, 778, 779, 780, 781, 782, 783, 784, 785, 786, 787, 788, 789, 790, 791, 792, 793, 794, 795, 796, 797, 798, 799, 800, 801, 802, 803, 804, 805, 806, 807, 808, 809, 810, 811, 812, 813, 814, 815]\n",
      "               origin        destination  length\n",
      "0            Le Havre    Paris-St-Lazare     138\n",
      "1              Dieppe    Paris-St-Lazare     145\n",
      "2     Paris-St-Lazare  Rouen-Rive-Droite      97\n",
      "3           Cherbourg    Paris-St-Lazare     194\n",
      "4                Caen    Paris-St-Lazare     149\n",
      "...               ...                ...     ...\n",
      "1569    Belfort-Ville      Lyon-Perrache     244\n",
      "1570  Lons-le-Saunier      Lyon-Perrache     103\n",
      "1571    Belfort-Ville    Lons-le-Saunier     144\n",
      "1572  Besançon-Viotte    Lons-le-Saunier      89\n",
      "1573  Bourg-en-Bresse           Mouchard      81\n",
      "\n",
      "[1574 rows x 3 columns]\n",
      "[138 145  97 ... 144  89  81] [592 492 215 ... 471 685 684] [215 215  14 ... 651 651 729]\n",
      "  (2, 349)\t85\n",
      "  (2, 752)\t83\n",
      "  (2, 771)\t58\n",
      "  (3, 212)\t154\n",
      "  (3, 323)\t33\n",
      "  (3, 445)\t13\n",
      "  (3, 486)\t124\n",
      "  (3, 526)\t146\n",
      "  (3, 545)\t69\n",
      "  (3, 547)\t132\n",
      "  (3, 611)\t146\n",
      "  (3, 807)\t177\n",
      "  (4, 709)\t55\n",
      "  (5, 215)\t94\n",
      "  (6, 586)\t113\n",
      "  (7, 158)\t247\n",
      "  (7, 418)\t50\n",
      "  (7, 494)\t84\n",
      "  (8, 460)\t48\n",
      "  (8, 532)\t53\n",
      "  (8, 582)\t55\n",
      "  (11, 419)\t253\n",
      "  (11, 780)\t93\n",
      "  (12, 94)\t20\n",
      "  (12, 127)\t54\n",
      "  :\t:\n",
      "  (795, 533)\t35\n",
      "  (795, 611)\t159\n",
      "  (795, 662)\t113\n",
      "  (797, 719)\t30\n",
      "  (799, 79)\t89\n",
      "  (800, 619)\t26\n",
      "  (802, 750)\t20\n",
      "  (803, 32)\t80\n",
      "  (803, 105)\t43\n",
      "  (803, 593)\t39\n",
      "  (803, 758)\t48\n",
      "  (806, 180)\t109\n",
      "  (807, 162)\t118\n",
      "  (807, 526)\t131\n",
      "  (807, 545)\t101\n",
      "  (807, 776)\t139\n",
      "  (808, 730)\t45\n",
      "  (809, 588)\t36\n",
      "  (810, 318)\t41\n",
      "  (810, 490)\t107\n",
      "  (811, 650)\t60\n",
      "  (812, 643)\t52\n",
      "  (812, 678)\t160\n",
      "  (814, 195)\t54\n",
      "  (815, 763)\t5\n",
      "[[0 0 0 ... 0 0 0]\n",
      " [0 0 0 ... 0 0 0]\n",
      " [0 0 0 ... 0 0 0]\n",
      " ...\n",
      " [0 0 0 ... 0 0 0]\n",
      " [0 0 0 ... 0 0 0]\n",
      " [0 0 0 ... 0 0 0]]\n",
      "  (2, 349)\t85\n",
      "  (2, 752)\t83\n",
      "  (2, 771)\t58\n",
      "  (3, 212)\t154\n",
      "  (3, 323)\t33\n",
      "  (3, 445)\t13\n",
      "  (3, 486)\t124\n",
      "  (3, 526)\t146\n",
      "  (3, 545)\t69\n",
      "  (3, 547)\t132\n",
      "  (3, 611)\t146\n",
      "  (3, 807)\t177\n",
      "  (4, 709)\t55\n",
      "  (5, 215)\t94\n",
      "  (6, 586)\t113\n",
      "  (7, 158)\t247\n",
      "  (7, 418)\t50\n",
      "  (7, 494)\t84\n",
      "  (8, 460)\t48\n",
      "  (8, 532)\t53\n",
      "  (8, 582)\t55\n",
      "  (11, 419)\t253\n",
      "  (11, 780)\t93\n",
      "  (12, 94)\t20\n",
      "  (12, 127)\t54\n",
      "  :\t:\n",
      "  (795, 533)\t35\n",
      "  (795, 611)\t159\n",
      "  (795, 662)\t113\n",
      "  (797, 719)\t30\n",
      "  (799, 79)\t89\n",
      "  (800, 619)\t26\n",
      "  (802, 750)\t20\n",
      "  (803, 32)\t80\n",
      "  (803, 105)\t43\n",
      "  (803, 593)\t39\n",
      "  (803, 758)\t48\n",
      "  (806, 180)\t109\n",
      "  (807, 162)\t118\n",
      "  (807, 526)\t131\n",
      "  (807, 545)\t101\n",
      "  (807, 776)\t139\n",
      "  (808, 730)\t45\n",
      "  (809, 588)\t36\n",
      "  (810, 318)\t41\n",
      "  (810, 490)\t107\n",
      "  (811, 650)\t60\n",
      "  (812, 643)\t52\n",
      "  (812, 678)\t160\n",
      "  (814, 195)\t54\n",
      "  (815, 763)\t5\n",
      "(816, 814)\n"
     ]
    }
   ],
   "source": [
    "from scipy.sparse import csr_matrix\n",
    "import numpy as np\n",
    "\n",
    "path_cleaned = \"./data/clean_timetables.csv\"\n",
    "\n",
    "# Get data\n",
    "df = pd.read_csv(path_cleaned)\n",
    "\n",
    "# Get all unique train station name\n",
    "unique_gares = list(set(np.concatenate((list(df[\"destination\"]), list(df[\"origin\"])), axis=None)))\n",
    "\n",
    "# Indexes for each train station\n",
    "indexes_gares = list(range(0,len(unique_gares)))\n",
    "\n",
    "print(unique_gares)\n",
    "\n",
    "print(indexes_gares)\n",
    "\n",
    "print(df)\n",
    "# Replace every train station name with its index in the dataframe\n",
    "df.replace(unique_gares,indexes_gares,inplace=True)\n",
    "\n",
    "df.dropna(inplace=True)\n",
    "\n",
    "df = df.astype(\"int64\")\n",
    "\n",
    "# Debugg - Association station name -> index\n",
    "# for i in range(0,len(unique_gares)):\n",
    "#     print(\"{} -> {}\".format(unique_gares[i],indexes_gares[i]))\n",
    "\n",
    "# Set up for the matrix\n",
    "data = np.array(list(df[\"length\"]))\n",
    "row = np.array(list(df[\"origin\"]))\n",
    "col = np.array(list(df[\"destination\"]))\n",
    "\n",
    "# Debugg - see set up arrays\n",
    "print(data,row,col)\n",
    "\n",
    "# Matrix construction\n",
    "matrix = csr_matrix((data, (row,col)))\n",
    "\n",
    "# Export ids and length to csv\n",
    "df.to_csv(\"./data/matricable_timetables.csv\",index=False)\n",
    "\n",
    "# Export indexes\n",
    "indexes = pd.DataFrame()\n",
    "indexes[\"unique_gares\"] = unique_gares\n",
    "indexes[\"indexes_gares\"] = indexes_gares\n",
    "indexes.to_csv(\"./data/matrixIndexes.csv\",index=False)\n",
    "\n",
    "\n",
    "print (matrix)\n",
    "\n",
    "# Calling csvToMatrix()\n",
    "print(matrix.toarray())\n",
    "print(matrix)\n",
    "print(matrix.shape)"
   ]
  },
  {
   "cell_type": "markdown",
   "metadata": {},
   "source": []
  },
  {
   "cell_type": "markdown",
   "metadata": {},
   "source": [
    "## Raw Data Visualization"
   ]
  },
  {
   "cell_type": "code",
   "execution_count": null,
   "metadata": {},
   "outputs": [],
   "source": [
    "import pandas as pd\n",
    "import networkx as nx\n",
    "import matplotlib.pyplot as plt\n",
    "from pyvis.network import Network\n",
    "import numpy as np \n",
    "\n",
    "df = pd.read_csv(\"data/clean_timetables.csv\")\n",
    "\n",
    "\n",
    "net=Network()\n",
    "i=0\n",
    "dict_gare={}\n",
    "unique_gares = list(set(np.concatenate((list(df[\"destination\"]), list(df[\"origin\"])), axis=None)))\n",
    "for gare in unique_gares :\n",
    "    dict_gare[gare]=i\n",
    "    net.add_node(i,label=gare)\n",
    "    i+=1\n",
    "\n",
    "for i in df.index:\n",
    "    dep=dict_gare[df['origin'][i]]\n",
    "    arr=dict_gare[df['destination'][i]]\n",
    "    w=int(df['length'][i])\n",
    "    net.add_edge(dep,arr,value=w)\n",
    "\n",
    "net.repulsion(node_distance=400, spring_length=400)\n",
    "net.show_buttons(filter_=True)\n",
    "net.show('dataviz/edges_with_weights.html')\n",
    "\n"
   ]
  },
  {
   "cell_type": "markdown",
   "metadata": {},
   "source": [
    "## Speech Recognition"
   ]
  },
  {
   "cell_type": "code",
   "execution_count": null,
   "metadata": {},
   "outputs": [],
   "source": [
    "import speech_recognition as sr\n",
    "\n",
    "speech = './tests/Céline-Paris.wav'\n",
    "\n",
    "r = sr.Recognizer()\n",
    "\n",
    "with sr.AudioFile(speech) as source:\n",
    "    # listen for the data (load audio to memory)\n",
    "    audio_data = r.record(source)\n",
    "    # recognize (convert from speech to text)\n",
    "    text = r.recognize_google(audio_data, language=\"fr-FR\")\n",
    "    print(text)"
   ]
  },
  {
   "cell_type": "markdown",
   "metadata": {},
   "source": [
    "## Retrieve Departure & Destination"
   ]
  },
  {
   "cell_type": "markdown",
   "metadata": {},
   "source": [
    "### Get cities names"
   ]
  },
  {
   "cell_type": "code",
   "execution_count": null,
   "metadata": {},
   "outputs": [],
   "source": [
    "txt = \"Je veux aller de Paris a Besançon en passant par Lyon Elon Musk\"\n",
    "import spacy\n",
    "\n",
    "nlp = spacy.load(\"fr_core_news_sm\")\n",
    "\n",
    "doc = nlp(txt)\n",
    "\n",
    "for i in doc.ents:\n",
    "    print(i.text, i.start_char, i.end_char, i.label_)"
   ]
  },
  {
   "cell_type": "markdown",
   "metadata": {},
   "source": [
    "### Get departure & destination"
   ]
  },
  {
   "cell_type": "markdown",
   "metadata": {},
   "source": []
  },
  {
   "cell_type": "markdown",
   "metadata": {},
   "source": [
    "## Shortest Path"
   ]
  },
  {
   "cell_type": "code",
   "execution_count": 8,
   "metadata": {},
   "outputs": [
    {
     "name": "stdout",
     "output_type": "stream",
     "text": [
      "[592 492 215 ... 471 685 684]\n",
      "The shortest distance of  a  from the source vertex a is: 0\n",
      "The shortest distance of  b  from the source vertex a is: 3\n",
      "The shortest distance of  c  from the source vertex a is: 3.5\n",
      "The shortest distance of  d  from the source vertex a is: 4.5\n"
     ]
    }
   ],
   "source": []
  },
  {
   "cell_type": "markdown",
   "metadata": {},
   "source": [
    "## Result(s) Visualization"
   ]
  },
  {
   "cell_type": "code",
   "execution_count": null,
   "metadata": {},
   "outputs": [],
   "source": []
  },
  {
   "cell_type": "markdown",
   "metadata": {},
   "source": [
    "# TODOS \n",
    "## DEALINE 24/12\n",
    "* Sylvain -> Dijsktra matrice + add doc here\n",
    "* Samantha -> Doc vulgarisée + data viz des resultats\n",
    "* Aymerick -> Fleche de diretions\n",
    "* Paul -> main.py + fleches de directions + finir clean data (enlever nan values)"
   ]
  },
  {
   "cell_type": "markdown",
   "metadata": {},
   "source": [
    "# Question pédago\n",
    "* Application ?\n"
   ]
  }
 ],
 "metadata": {
  "kernelspec": {
   "display_name": "Python 3",
   "language": "python",
   "name": "python3"
  },
  "language_info": {
   "codemirror_mode": {
    "name": "ipython",
    "version": 3
   },
   "file_extension": ".py",
   "mimetype": "text/x-python",
   "name": "python",
   "nbconvert_exporter": "python",
   "pygments_lexer": "ipython3",
   "version": "3.8.8"
  }
 },
 "nbformat": 4,
 "nbformat_minor": 4
}
