{
 "cells": [
  {
   "cell_type": "code",
   "execution_count": 8,
   "id": "d30e8ef7",
   "metadata": {},
   "outputs": [
    {
     "ename": "NameError",
     "evalue": "name 'graph' is not defined",
     "output_type": "error",
     "traceback": [
      "\u001b[1;31m---------------------------------------------------------------------------\u001b[0m",
      "\u001b[1;31mNameError\u001b[0m                                 Traceback (most recent call last)",
      "\u001b[1;32m<ipython-input-8-01c400096986>\u001b[0m in \u001b[0;36m<module>\u001b[1;34m\u001b[0m\n\u001b[0;32m     49\u001b[0m         \u001b[0mprint\u001b[0m\u001b[1;33m(\u001b[0m\u001b[1;34m\"Visited nodes: \"\u001b[0m \u001b[1;33m+\u001b[0m \u001b[0mstr\u001b[0m\u001b[1;33m(\u001b[0m\u001b[0mvisited\u001b[0m\u001b[1;33m)\u001b[0m\u001b[1;33m)\u001b[0m\u001b[1;33m\u001b[0m\u001b[1;33m\u001b[0m\u001b[0m\n\u001b[0;32m     50\u001b[0m         \u001b[0mprint\u001b[0m\u001b[1;33m(\u001b[0m\u001b[1;34m\"Currently lowest distances: \"\u001b[0m \u001b[1;33m+\u001b[0m \u001b[0mstr\u001b[0m\u001b[1;33m(\u001b[0m\u001b[0mdistances\u001b[0m\u001b[1;33m)\u001b[0m\u001b[1;33m)\u001b[0m\u001b[1;33m\u001b[0m\u001b[1;33m\u001b[0m\u001b[0m\n\u001b[1;32m---> 51\u001b[1;33m \u001b[0mdijkstra\u001b[0m\u001b[1;33m(\u001b[0m\u001b[0mgraph\u001b[0m\u001b[1;33m,\u001b[0m\u001b[0mstart\u001b[0m\u001b[1;33m)\u001b[0m\u001b[1;33m\u001b[0m\u001b[1;33m\u001b[0m\u001b[0m\n\u001b[0m",
      "\u001b[1;31mNameError\u001b[0m: name 'graph' is not defined"
     ]
    }
   ],
   "source": [
    "def dijkstra(graph, start):\n",
    "    \"\"\"\n",
    "    Implementation of dijkstra using adjacency matrix.\n",
    "    This returns an array containing the length of the shortest path from the start node to each other node.\n",
    "    It is only guaranteed to return correct results if there are no negative edges in the graph. Positive cycles are fine.\n",
    "    This has a runtime of O(|V|^2) (|V| = number of Nodes), for a faster implementation see @see ../fast/Dijkstra.java (using adjacency lists)\n",
    "\n",
    "    :param graph: an adjacency-matrix-representation of the graph where (x,y) is the weight of the edge or 0 if there is no edge.\n",
    "    :param start: the node to start from.\n",
    "    :return: an array containing the shortest distances from the given start node to each other node\n",
    "    \"\"\"\n",
    "    # This contains the distances from the start node to all other nodes\n",
    "    distances = [float(\"inf\") for _ in range(len(graph))]\n",
    "\n",
    "    # This contains whether a node was already visited\n",
    "    visited = [False for _ in range(len(graph))]\n",
    "\n",
    "    # The distance from the start node to itself is of course 0\n",
    "    distances[start] = 0\n",
    "\n",
    "    # While there are nodes left to visit...\n",
    "    while True:\n",
    "\n",
    "        # ... find the node with the currently shortest distance from the start node...\n",
    "        shortest_distance = float(\"inf\")\n",
    "        shortest_index = -1\n",
    "        for i in range(len(graph)):\n",
    "            # ... by going through all nodes that haven't been visited yet\n",
    "            if distances[i] < shortest_distance and not visited[i]:\n",
    "                shortest_distance = distances[i]\n",
    "                shortest_index = i\n",
    "\n",
    "        print(\"Visiting node \" + str(shortest_index) + \" with current distance \" + str(shortest_distance))\n",
    "\n",
    "        if shortest_index == -1:\n",
    "            # There was no node not yet visited --> We are done\n",
    "            return distances\n",
    "\n",
    "        # ...then, for all neighboring nodes that haven't been visited yet....\n",
    "        for i in range(len(graph[shortest_index])):\n",
    "            # ...if the path over this edge is shorter...\n",
    "            if graph[shortest_index][i] != 0 and distances[i] > distances[shortest_index] + graph[shortest_index][i]:\n",
    "                # ...Save this path as new shortest path.\n",
    "                distances[i] = distances[shortest_index] + graph[shortest_index][i]\n",
    "                print(\"Updating distance of node \" + str(i) + \" to \" + str(distances[i]))\n",
    "\n",
    "        # Lastly, note that we are finished with this node.\n",
    "        visited[shortest_index] = True\n",
    "        print(\"Visited nodes: \" + str(visited))\n",
    "        print(\"Currently lowest distances: \" + str(distances))\n",
    "dijkstra(graph,start)"
   ]
  },
  {
   "cell_type": "code",
   "execution_count": 7,
   "id": "25e7a70d",
   "metadata": {},
   "outputs": [
    {
     "ename": "NameError",
     "evalue": "name 'graph' is not defined",
     "output_type": "error",
     "traceback": [
      "\u001b[1;31m---------------------------------------------------------------------------\u001b[0m",
      "\u001b[1;31mNameError\u001b[0m                                 Traceback (most recent call last)",
      "\u001b[1;32m<ipython-input-7-e65f6ce427ea>\u001b[0m in \u001b[0;36m<module>\u001b[1;34m\u001b[0m\n\u001b[1;32m----> 1\u001b[1;33m \u001b[0mdijkstra\u001b[0m\u001b[1;33m(\u001b[0m\u001b[0mgraph\u001b[0m\u001b[1;33m,\u001b[0m\u001b[0mstart\u001b[0m\u001b[1;33m)\u001b[0m\u001b[1;33m\u001b[0m\u001b[1;33m\u001b[0m\u001b[0m\n\u001b[0m",
      "\u001b[1;31mNameError\u001b[0m: name 'graph' is not defined"
     ]
    }
   ],
   "source": []
  },
  {
   "cell_type": "code",
   "execution_count": null,
   "id": "819c9b97",
   "metadata": {},
   "outputs": [],
   "source": []
  }
 ],
 "metadata": {
  "kernelspec": {
   "display_name": "Python 3",
   "language": "python",
   "name": "python3"
  },
  "language_info": {
   "codemirror_mode": {
    "name": "ipython",
    "version": 3
   },
   "file_extension": ".py",
   "mimetype": "text/x-python",
   "name": "python",
   "nbconvert_exporter": "python",
   "pygments_lexer": "ipython3",
   "version": "3.8.8"
  }
 },
 "nbformat": 4,
 "nbformat_minor": 5
}
