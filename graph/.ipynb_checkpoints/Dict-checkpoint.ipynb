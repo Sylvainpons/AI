{
 "cells": [
  {
   "cell_type": "code",
   "execution_count": 22,
   "id": "a1d102de",
   "metadata": {},
   "outputs": [],
   "source": [
    "import sys\n",
    "from heapq import heapify,heappush,heappop\n",
    "\n",
    "\n",
    "def dijkstra(graph,src,dest):\n",
    "    #Création de la valeur infini\n",
    "    inf = sys.maxsize\n",
    "    node_data = {'A':{'cost':inf,'pred':[]},\n",
    "    'B':{'cost':inf,'pred':[]},\n",
    "    'C':{'cost':inf,'pred':[]},\n",
    "    'D':{'cost':inf,'pred':[]},\n",
    "    'E':{'cost':inf,'pred':[]},\n",
    "    'F':{'cost':inf,'pred':[]}\n",
    "    }\n",
    "        \n",
    "    node_data[src]['cost']= '0'\n",
    "    visited =[]\n",
    "    temp = src\n",
    "    for i in range(5):\n",
    "        if temp not in visited:\n",
    "            visited.append(temp)\n",
    "            min_heap= []\n",
    "            for j in graph[temp]:\n",
    "                if j not in visited:\n",
    "                    cost = node_data[temp]['cost']+str(graph[temp][j])\n",
    "                    \n",
    "                    if cost <= str(node_data[j]['cost']):\n",
    "                        node_data[j]['cost'] = cost\n",
    "                        node_data[j]['pred'] = node_data[temp]['pred'] + list(temp)\n",
    "                        heappush(min_heap,(node_data[j]['cost'],j))\n",
    "                        heapify(min_heap)\n",
    "                        temp = min_heap[0][1]\n",
    "                      \n",
    "    print(\"Shortest Path\" + str(node_data[dest]['pred']+ list(dest)))\n",
    "    print(\"Shortest Distance:\" +str(node_data[dest]['cost']))\n",
    "                     \n",
    "                        \n",
    "\n",
    "   \n",
    "\n",
    "\n"
   ]
  },
  {
   "cell_type": "code",
   "execution_count": 23,
   "id": "154976c0",
   "metadata": {},
   "outputs": [
    {
     "name": "stdout",
     "output_type": "stream",
     "text": [
      "Shortest Path['A', 'B', 'C', 'E', 'F']\n",
      "Shortest Distance:02351\n"
     ]
    }
   ],
   "source": [
    "\n",
    "if __name__==\"__main__\":\n",
    "    graph ={\n",
    "    'A':{'B':2,'C':4},\n",
    "    'B':{'A':2,'C':3,'D':8},\n",
    "    'C':{'A':4,'B':3,'E':5,'D':2},\n",
    "    'D':{'B':8,'C':2,'E':11,'F':22},\n",
    "    'E':{'C':5,'D':11,'F':1},\n",
    "    'F':{'D':22,'E':1}\n",
    "}\n",
    "source ='A'\n",
    "destination ='F'\n",
    "\n",
    "dijkstra(graph,source,destination)"
   ]
  },
  {
   "cell_type": "code",
   "execution_count": null,
   "id": "01cd3bbc",
   "metadata": {},
   "outputs": [],
   "source": []
  }
 ],
 "metadata": {
  "interpreter": {
   "hash": "798afba6043e41f4d10aebcf0b93975a77d22a3a1d4b006b784b1a24c131c70b"
  },
  "kernelspec": {
   "display_name": "Python 3",
   "language": "python",
   "name": "python3"
  },
  "language_info": {
   "codemirror_mode": {
    "name": "ipython",
    "version": 3
   },
   "file_extension": ".py",
   "mimetype": "text/x-python",
   "name": "python",
   "nbconvert_exporter": "python",
   "pygments_lexer": "ipython3",
   "version": "3.8.8"
  }
 },
 "nbformat": 4,
 "nbformat_minor": 5
}
